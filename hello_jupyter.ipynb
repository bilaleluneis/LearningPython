{
 "cells": [
  {
   "cell_type": "code",
   "execution_count": 49,
   "metadata": {},
   "outputs": [
    {
     "data": {
      "text/plain": [
       "[<matplotlib.lines.Line2D at 0x11231b9b0>]"
      ]
     },
     "execution_count": 49,
     "metadata": {},
     "output_type": "execute_result"
    },
    {
     "data": {
      "image/png": "[encoded data removed]",
      "text/plain": [
       "<Figure size 432x288 with 1 Axes>"
      ]
     },
     "metadata": {},
     "output_type": "display_data"
    }
   ],
   "source": [
    "from pylab import *\n",
    "from bubble_sort import *\n",
    "from numpy import *\n",
    "\n",
    "list_of_arrays_to_sort = []\n",
    "min_list_size = 10\n",
    "max_list_size = 1000\n",
    "increments = 10\n",
    "\n",
    "for list_size in range(min_list_size, max_list_size, increments):\n",
    "    (_, _, worse_case_list) = lists_generator(list_size, list_size)\n",
    "    list_of_arrays_to_sort.append(worse_case_list)\n",
    "\n",
    "time_in_ms_list = []\n",
    "\n",
    "for array_to_sort in list_of_arrays_to_sort:\n",
    "    start_time = int(round(timer.now().timestamp() * 1000))\n",
    "    bubble_sort_impl_b(array_to_sort)\n",
    "    end_time = int(round(timer.now().timestamp() * 1000))\n",
    "    time_in_ms_list.append(end_time - start_time)\n",
    "    \n",
    "\n",
    "ns = range(min_list_size, max_list_size, increments)\n",
    "\n",
    "plt.plot(ns, np.array(time_in_ms_list))\n",
    "\n",
    "\n",
    "\n"
   ]
  },
  {
   "cell_type": "code",
   "execution_count": 36,
   "metadata": {},
   "outputs": [],
   "source": []
  },
  {
   "cell_type": "code",
   "execution_count": null,
   "metadata": {},
   "outputs": [],
   "source": []
  }
 ],
 "metadata": {
  "kernelspec": {
   "display_name": "Python 2",
   "language": "python",
   "name": "python2"
  },
  "language_info": {
   "codemirror_mode": {
    "name": "ipython",
    "version": 2
   },
   "file_extension": ".py",
   "mimetype": "text/x-python",
   "name": "python",
   "nbconvert_exporter": "python",
   "pygments_lexer": "ipython2",
   "version": "2.7.6"
  }
 },
 "nbformat": 4,
 "nbformat_minor": 0
}
